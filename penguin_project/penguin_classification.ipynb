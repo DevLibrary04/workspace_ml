{
 "cells": [
  {
   "cell_type": "markdown",
   "id": "ecf94712",
   "metadata": {},
   "source": [
    "# 🐧 펭귄 분류 모델 비교\n",
    "\n",
    "Palmer Penguins 데이터를 활용하여 `KNN`, `로지스틱 회귀`, `나이브 베이즈` 세 가지 모델을 적용해 분류 성능을 비교합니다.\n",
    "\n",
    "### 📌 주요 내용\n",
    "- 결측치 처리\n",
    "- 범주형 데이터 제외\n",
    "- 모델 학습 및 예측\n",
    "- 정확도(Accuracy) 비교\n"
   ]
  },
  {
   "cell_type": "code",
   "execution_count": null,
   "id": "4c9884b1",
   "metadata": {},
   "outputs": [],
   "source": [
    "import pandas as pd\n",
    "import numpy as np\n",
    "import matplotlib.pyplot as plt\n",
    "from sklearn.model_selection import train_test_split\n",
    "from sklearn.neighbors import KNeighborsClassifier\n",
    "from sklearn.linear_model import LogisticRegression\n",
    "from sklearn.metrics import accuracy_score\n",
    "from sklearn.naive_bayes import GaussianNB"
   ]
  },
  {
   "cell_type": "markdown",
   "id": "1cccc978",
   "metadata": {},
   "source": [
    "## 🔍 데이터 불러오기 및 구조 확인\n",
    "먼저 데이터를 로드하고 기본적인 정보를 확인합니다.\n"
   ]
  },
  {
   "cell_type": "code",
   "execution_count": 3,
   "id": "225b9c8b",
   "metadata": {},
   "outputs": [
    {
     "name": "stdout",
     "output_type": "stream",
     "text": [
      "<class 'pandas.core.frame.DataFrame'>\n",
      "RangeIndex: 344 entries, 0 to 343\n",
      "Data columns (total 9 columns):\n",
      " #   Column             Non-Null Count  Dtype  \n",
      "---  ------             --------------  -----  \n",
      " 0   rowid              344 non-null    int64  \n",
      " 1   species            344 non-null    object \n",
      " 2   island             344 non-null    object \n",
      " 3   bill_length_mm     342 non-null    float64\n",
      " 4   bill_depth_mm      342 non-null    float64\n",
      " 5   flipper_length_mm  342 non-null    float64\n",
      " 6   body_mass_g        342 non-null    float64\n",
      " 7   sex                333 non-null    object \n",
      " 8   year               344 non-null    int64  \n",
      "dtypes: float64(4), int64(2), object(3)\n",
      "memory usage: 24.3+ KB\n"
     ]
    }
   ],
   "source": [
    "df = pd.read_csv('../data/penguins.csv')\n",
    "df.head()\n",
    "df.info()  # 'sex', 'island'는 object형이라 KNN에 사용 불가\n"
   ]
  },
  {
   "cell_type": "markdown",
   "id": "c0165342",
   "metadata": {},
   "source": [
    "## 🧼 데이터 전처리\n",
    "\n",
    "- 결측치는 0으로 대체했습니다.\n",
    "- 분석에 불필요하거나 범주형인 열(`species`, `sex`, `island`, `rowid`)은 제외하고 입력 변수(X)를 구성했습니다.\n"
   ]
  },
  {
   "cell_type": "code",
   "execution_count": 4,
   "id": "501b9051",
   "metadata": {},
   "outputs": [
    {
     "name": "stdout",
     "output_type": "stream",
     "text": [
      "(344, 5) (344,)\n"
     ]
    }
   ],
   "source": [
    "df = df.fillna(0)\n",
    "X = df.drop([\"species\", \"sex\", \"island\", \"rowid\"], axis=1)\n",
    "y = df[\"species\"]\n",
    "print(X.shape, y.shape)\n"
   ]
  },
  {
   "cell_type": "markdown",
   "id": "7951ae6e",
   "metadata": {},
   "source": [
    "## 📊 데이터 분할\n",
    "- 학습 데이터와 테스트 데이터를 분리합니다.\n"
   ]
  },
  {
   "cell_type": "code",
   "execution_count": 5,
   "id": "a6e91a82",
   "metadata": {},
   "outputs": [],
   "source": [
    "X_train, X_test, y_train, y_test = train_test_split(X, y)\n"
   ]
  },
  {
   "cell_type": "markdown",
   "id": "2ab76d6e",
   "metadata": {},
   "source": [
    "## 🧠 모델 학습\n",
    "\n",
    "각 모델을 학습시킵니다:\n",
    "- K-최근접 이웃(KNN)\n",
    "- 로지스틱 회귀(Logistic Regression)\n",
    "- 나이브 베이즈(Naive Bayes)\n"
   ]
  },
  {
   "cell_type": "code",
   "execution_count": 6,
   "id": "c45a8a20",
   "metadata": {},
   "outputs": [
    {
     "data": {
      "text/html": [
       "<style>#sk-container-id-1 {color: black;background-color: white;}#sk-container-id-1 pre{padding: 0;}#sk-container-id-1 div.sk-toggleable {background-color: white;}#sk-container-id-1 label.sk-toggleable__label {cursor: pointer;display: block;width: 100%;margin-bottom: 0;padding: 0.3em;box-sizing: border-box;text-align: center;}#sk-container-id-1 label.sk-toggleable__label-arrow:before {content: \"▸\";float: left;margin-right: 0.25em;color: #696969;}#sk-container-id-1 label.sk-toggleable__label-arrow:hover:before {color: black;}#sk-container-id-1 div.sk-estimator:hover label.sk-toggleable__label-arrow:before {color: black;}#sk-container-id-1 div.sk-toggleable__content {max-height: 0;max-width: 0;overflow: hidden;text-align: left;background-color: #f0f8ff;}#sk-container-id-1 div.sk-toggleable__content pre {margin: 0.2em;color: black;border-radius: 0.25em;background-color: #f0f8ff;}#sk-container-id-1 input.sk-toggleable__control:checked~div.sk-toggleable__content {max-height: 200px;max-width: 100%;overflow: auto;}#sk-container-id-1 input.sk-toggleable__control:checked~label.sk-toggleable__label-arrow:before {content: \"▾\";}#sk-container-id-1 div.sk-estimator input.sk-toggleable__control:checked~label.sk-toggleable__label {background-color: #d4ebff;}#sk-container-id-1 div.sk-label input.sk-toggleable__control:checked~label.sk-toggleable__label {background-color: #d4ebff;}#sk-container-id-1 input.sk-hidden--visually {border: 0;clip: rect(1px 1px 1px 1px);clip: rect(1px, 1px, 1px, 1px);height: 1px;margin: -1px;overflow: hidden;padding: 0;position: absolute;width: 1px;}#sk-container-id-1 div.sk-estimator {font-family: monospace;background-color: #f0f8ff;border: 1px dotted black;border-radius: 0.25em;box-sizing: border-box;margin-bottom: 0.5em;}#sk-container-id-1 div.sk-estimator:hover {background-color: #d4ebff;}#sk-container-id-1 div.sk-parallel-item::after {content: \"\";width: 100%;border-bottom: 1px solid gray;flex-grow: 1;}#sk-container-id-1 div.sk-label:hover label.sk-toggleable__label {background-color: #d4ebff;}#sk-container-id-1 div.sk-serial::before {content: \"\";position: absolute;border-left: 1px solid gray;box-sizing: border-box;top: 0;bottom: 0;left: 50%;z-index: 0;}#sk-container-id-1 div.sk-serial {display: flex;flex-direction: column;align-items: center;background-color: white;padding-right: 0.2em;padding-left: 0.2em;position: relative;}#sk-container-id-1 div.sk-item {position: relative;z-index: 1;}#sk-container-id-1 div.sk-parallel {display: flex;align-items: stretch;justify-content: center;background-color: white;position: relative;}#sk-container-id-1 div.sk-item::before, #sk-container-id-1 div.sk-parallel-item::before {content: \"\";position: absolute;border-left: 1px solid gray;box-sizing: border-box;top: 0;bottom: 0;left: 50%;z-index: -1;}#sk-container-id-1 div.sk-parallel-item {display: flex;flex-direction: column;z-index: 1;position: relative;background-color: white;}#sk-container-id-1 div.sk-parallel-item:first-child::after {align-self: flex-end;width: 50%;}#sk-container-id-1 div.sk-parallel-item:last-child::after {align-self: flex-start;width: 50%;}#sk-container-id-1 div.sk-parallel-item:only-child::after {width: 0;}#sk-container-id-1 div.sk-dashed-wrapped {border: 1px dashed gray;margin: 0 0.4em 0.5em 0.4em;box-sizing: border-box;padding-bottom: 0.4em;background-color: white;}#sk-container-id-1 div.sk-label label {font-family: monospace;font-weight: bold;display: inline-block;line-height: 1.2em;}#sk-container-id-1 div.sk-label-container {text-align: center;}#sk-container-id-1 div.sk-container {/* jupyter's `normalize.less` sets `[hidden] { display: none; }` but bootstrap.min.css set `[hidden] { display: none !important; }` so we also need the `!important` here to be able to override the default hidden behavior on the sphinx rendered scikit-learn.org. See: https://github.com/scikit-learn/scikit-learn/issues/21755 */display: inline-block !important;position: relative;}#sk-container-id-1 div.sk-text-repr-fallback {display: none;}</style><div id=\"sk-container-id-1\" class=\"sk-top-container\"><div class=\"sk-text-repr-fallback\"><pre>GaussianNB()</pre><b>In a Jupyter environment, please rerun this cell to show the HTML representation or trust the notebook. <br />On GitHub, the HTML representation is unable to render, please try loading this page with nbviewer.org.</b></div><div class=\"sk-container\" hidden><div class=\"sk-item\"><div class=\"sk-estimator sk-toggleable\"><input class=\"sk-toggleable__control sk-hidden--visually\" id=\"sk-estimator-id-1\" type=\"checkbox\" checked><label for=\"sk-estimator-id-1\" class=\"sk-toggleable__label sk-toggleable__label-arrow\">GaussianNB</label><div class=\"sk-toggleable__content\"><pre>GaussianNB()</pre></div></div></div></div></div>"
      ],
      "text/plain": [
       "GaussianNB()"
      ]
     },
     "execution_count": 6,
     "metadata": {},
     "output_type": "execute_result"
    }
   ],
   "source": [
    "knn = KNeighborsClassifier()\n",
    "knn.fit(X_train, y_train)\n",
    "\n",
    "lr = LogisticRegression(max_iter=3000)\n",
    "lr.fit(X_train, y_train)\n",
    "\n",
    "gnb = GaussianNB()\n",
    "gnb.fit(X_train, y_train)\n"
   ]
  },
  {
   "cell_type": "markdown",
   "id": "2dd8eeb7",
   "metadata": {},
   "source": [
    "## 🎯 모델 예측 및 정확도 평가\n",
    "\n",
    "각 모델의 테스트 데이터에 대한 정확도를 출력합니다.\n"
   ]
  },
  {
   "cell_type": "code",
   "execution_count": 7,
   "id": "ca9c8ff0",
   "metadata": {},
   "outputs": [
    {
     "name": "stdout",
     "output_type": "stream",
     "text": [
      "KNN 정확도: 0.7906976744186046\n",
      "Logistic Regression 정확도: 1.0\n",
      "Naive Bayes 정확도: 0.9534883720930233\n"
     ]
    }
   ],
   "source": [
    "knn_y_pred = knn.predict(X_test)\n",
    "lr_y_pred = lr.predict(X_test)\n",
    "gnb_y_pred = gnb.predict(X_test)\n",
    "\n",
    "print(\"KNN 정확도:\", accuracy_score(y_test, knn_y_pred))\n",
    "print(\"Logistic Regression 정확도:\", accuracy_score(y_test, lr_y_pred))\n",
    "print(\"Naive Bayes 정확도:\", accuracy_score(y_test, gnb_y_pred))\n"
   ]
  },
  {
   "cell_type": "markdown",
   "id": "aa4e45df",
   "metadata": {},
   "source": [
    "## ✅ 결과 요약\n",
    "\n",
    "| 모델 | 정확도 |\n",
    "|------|--------|\n",
    "| KNN | 0.79 |\n",
    "| Logistic Regression | 0.99 |\n",
    "| Naive Bayes | 0.95 |\n",
    "\n",
    "---\n",
    "> 로지스틱 회귀가 가장 높은 정확도를 보였습니다. 다만 오분류된 사례를 추가로 분석하면 더 깊은 인사이트를 얻을 수 있습니다.\n"
   ]
  },
  {
   "cell_type": "code",
   "execution_count": null,
   "id": "8541d3be",
   "metadata": {},
   "outputs": [],
   "source": []
  },
  {
   "cell_type": "markdown",
   "id": "f408a471",
   "metadata": {},
   "source": []
  },
  {
   "cell_type": "markdown",
   "id": "24cf4c44",
   "metadata": {},
   "source": []
  },
  {
   "cell_type": "markdown",
   "id": "c772b484",
   "metadata": {},
   "source": []
  },
  {
   "cell_type": "markdown",
   "id": "58e98fb2",
   "metadata": {},
   "source": []
  }
 ],
 "metadata": {
  "kernelspec": {
   "display_name": "py39",
   "language": "python",
   "name": "python3"
  },
  "language_info": {
   "codemirror_mode": {
    "name": "ipython",
    "version": 3
   },
   "file_extension": ".py",
   "mimetype": "text/x-python",
   "name": "python",
   "nbconvert_exporter": "python",
   "pygments_lexer": "ipython3",
   "version": "3.9.22"
  }
 },
 "nbformat": 4,
 "nbformat_minor": 5
}
